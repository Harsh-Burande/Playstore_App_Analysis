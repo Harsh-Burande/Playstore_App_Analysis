{
  "nbformat": 4,
  "nbformat_minor": 0,
  "metadata": {
    "colab": {
      "private_outputs": true,
      "provenance": [],
      "collapsed_sections": [
        "FJNUwmbgGyua",
        "w6K7xa23Elo4",
        "mDgbUHAGgjLW",
        "O_i_v8NEhb9l",
        "H0kj-8xxnORC",
        "bKJF3rekwFvQ",
        "MSa1f5Uengrz",
        "K5QZ13OEpz2H",
        "lQ7QKXXCp7Bj",
        "448CDAPjqfQr",
        "t6dVpIINYklI",
        "ijmpgYnKYklI",
        "fge-S5ZAYoAp",
        "85gYPyotYoAp",
        "RoGjAbkUYoAp",
        "iky9q4vBYrdO",
        "F6T5p64dYrdO",
        "y-Ehk30pYrdP",
        "QHF8YVU7Yuh3",
        "GwzvFGzlYuh3",
        "qYpmQ266Yuh3",
        "bbFf2-_FphqN",
        "_ouA3fa0phqN",
        "Seke61FWphqN",
        "t27r6nlMphqO",
        "r2jJGEOYphqO",
        "b0JNsNcRphqO",
        "eZrbJ2SmphqO",
        "rFu4xreNphqO",
        "lssrdh5qphqQ",
        "U2RJ9gkRphqQ",
        "1M8mcRywphqQ",
        "tgIPom80phqQ",
        "JMzcOPDDphqR",
        "x-EpHcCOp1ci",
        "X_VqEhTip1ck",
        "8zGJKyg5p1ck",
        "PVzmfK_Ep1ck",
        "ylSl6qgtp1ck",
        "ZWILFDl5p1ck",
        "M7G43BXep1ck",
        "Ag9LCva-p1cl",
        "E6MkPsBcp1cl",
        "2cELzS2fp1cl",
        "3MPXvC8up1cl",
        "NC_X3p0fY2L0",
        "UV0SzAkaZNRQ",
        "YPEH6qLeZNRQ",
        "q29F0dvdveiT",
        "EXh0U9oCveiU",
        "22aHeOlLveiV",
        "JcMwzZxoAimU",
        "8G2x9gOozGDZ",
        "gCX9965dhzqZ",
        "gIfDvo9L0UH2"
      ],
      "include_colab_link": true
    },
    "kernelspec": {
      "name": "python3",
      "display_name": "Python 3"
    },
    "language_info": {
      "name": "python"
    }
  },
  "cells": [
    {
      "cell_type": "markdown",
      "metadata": {
        "id": "view-in-github",
        "colab_type": "text"
      },
      "source": [
        "<a href=\"https://colab.research.google.com/github/Harsh-Burande/Playstore_App_Analysis/blob/main/Playstore_app_analysis.ipynb\" target=\"_parent\"><img src=\"https://colab.research.google.com/assets/colab-badge.svg\" alt=\"Open In Colab\"/></a>"
      ]
    },
    {
      "cell_type": "markdown",
      "source": [
        "# **Project Name**    -  **Playstore App Review Analysis**\n",
        "\n"
      ],
      "metadata": {
        "id": "vncDsAP0Gaoa"
      }
    },
    {
      "cell_type": "markdown",
      "source": [
        "##### **Project Type**    - EDA\n",
        "##### **Contribution**    - Individual\n",
        "##### **Team Member 1 - Harsh Burande**"
      ],
      "metadata": {
        "id": "beRrZCGUAJYm"
      }
    },
    {
      "cell_type": "markdown",
      "source": [
        "# **Project Summary -**"
      ],
      "metadata": {
        "id": "FJNUwmbgGyua"
      }
    },
    {
      "cell_type": "markdown",
      "source": [
        "Write the summary here within 500-600 words."
      ],
      "metadata": {
        "id": "F6v_1wHtG2nS"
      }
    },
    {
      "cell_type": "markdown",
      "source": [
        "# **GitHub Link -**"
      ],
      "metadata": {
        "id": "w6K7xa23Elo4"
      }
    },
    {
      "cell_type": "markdown",
      "source": [
        "Provide your GitHub Link here."
      ],
      "metadata": {
        "id": "h1o69JH3Eqqn"
      }
    },
    {
      "cell_type": "markdown",
      "source": [
        "# **Problem Statement**\n"
      ],
      "metadata": {
        "id": "yQaldy8SH6Dl"
      }
    },
    {
      "cell_type": "markdown",
      "source": [
        "\n",
        "#Essential Play Store Data Analysis (5 Key Insights)#\n",
        "**1. App Popularity Analysis**\n",
        "\n",
        "Top installed apps & most reviewed apps\n",
        "\n",
        "**2. Free vs. Paid Apps**\n",
        "\n",
        "Count of Free vs. Paid apps.\n",
        "\n",
        "Do paid apps have better ratings than free ones?\n",
        "\n",
        "**3. Category-Wise Insights**\n",
        "\n",
        "Which categories have the most apps?\n",
        "\n",
        "Most installed categories\n",
        "\n",
        "**4. Rating vs. Installs**\n",
        "Do highly downloaded apps always have high ratings?\n",
        "\n",
        "**5. Size vs. Performance**\n",
        "Are larger apps rated higher than smaller ones?\n",
        "\n",
        "\n",
        "#Essential User Review & Sentiment Analysis (4 Key Insights)#\n",
        "\n",
        "**1. Sentiment Distribution**\n",
        "Overall count of Positive, Neutral, and Negative reviews\n",
        "\n",
        "**2. Category-Wise Sentiment Trends**\n",
        "\n",
        "Do games get more negative reviews than productivity apps?\n",
        "\n",
        "**3. Top Apps by Sentiment**\n",
        "\n",
        "Apps with the most positive and most negative reviews\n",
        "\n",
        "**4. Sentiment vs. Rating Correlation**\n",
        "\n",
        "Do higher-rated apps always have positive reviews?\n",
        "🔥 Extra Insights (Optional but Interesting)\n",
        "🔹 10️⃣ Word Cloud of Positive & Negative Reviews (Find common words)\n",
        "🔹 11️⃣ Sentiment Over Time (Do apps improve or worsen after updates?)\n"
      ],
      "metadata": {
        "id": "DpeJGUA3kjGy"
      }
    },
    {
      "cell_type": "markdown",
      "source": [
        "#### **Define Your Business Objective?**"
      ],
      "metadata": {
        "id": "PH-0ReGfmX4f"
      }
    },
    {
      "cell_type": "markdown",
      "source": [
        "Answer Here."
      ],
      "metadata": {
        "id": "PhDvGCAqmjP1"
      }
    },
    {
      "cell_type": "markdown",
      "source": [
        "# **General Guidelines** : -  "
      ],
      "metadata": {
        "id": "mDgbUHAGgjLW"
      }
    },
    {
      "cell_type": "markdown",
      "source": [
        "1.   Well-structured, formatted, and commented code is required.\n",
        "2.   Exception Handling, Production Grade Code & Deployment Ready Code will be a plus. Those students will be awarded some additional credits.\n",
        "     \n",
        "     The additional credits will have advantages over other students during Star Student selection.\n",
        "       \n",
        "             [ Note: - Deployment Ready Code is defined as, the whole .ipynb notebook should be executable in one go\n",
        "                       without a single error logged. ]\n",
        "\n",
        "3.   Each and every logic should have proper comments.\n",
        "4. You may add as many number of charts you want. Make Sure for each and every chart the following format should be answered.\n",
        "        \n",
        "\n",
        "```\n",
        "# Chart visualization code\n",
        "```\n",
        "            \n",
        "\n",
        "*   Why did you pick the specific chart?\n",
        "*   What is/are the insight(s) found from the chart?\n",
        "* Will the gained insights help creating a positive business impact?\n",
        "Are there any insights that lead to negative growth? Justify with specific reason.\n",
        "\n",
        "5. You have to create at least 20 logical & meaningful charts having important insights.\n",
        "\n",
        "\n",
        "[ Hints : - Do the Vizualization in  a structured way while following \"UBM\" Rule.\n",
        "\n",
        "U - Univariate Analysis,\n",
        "\n",
        "B - Bivariate Analysis (Numerical - Categorical, Numerical - Numerical, Categorical - Categorical)\n",
        "\n",
        "M - Multivariate Analysis\n",
        " ]\n",
        "\n",
        "\n",
        "\n"
      ],
      "metadata": {
        "id": "ZrxVaUj-hHfC"
      }
    },
    {
      "cell_type": "markdown",
      "source": [
        "# ***Let's Begin !***"
      ],
      "metadata": {
        "id": "O_i_v8NEhb9l"
      }
    },
    {
      "cell_type": "markdown",
      "source": [
        "## ***1. Know Your Data***"
      ],
      "metadata": {
        "id": "HhfV-JJviCcP"
      }
    },
    {
      "cell_type": "markdown",
      "source": [
        "### Import Libraries"
      ],
      "metadata": {
        "id": "Y3lxredqlCYt"
      }
    },
    {
      "cell_type": "code",
      "source": [
        "# Import Libraries\n",
        "import pandas as pd\n",
        "import numpy as np\n",
        "import matplotlib.pyplot as plt\n",
        "import seaborn as sns\n",
        "import plotly.express as px\n",
        "import plotly.figure_factory as ff\n",
        "from datetime import datetime\n",
        "import warnings\n",
        "warnings.filterwarnings('ignore')\n",
        "from IPython.display import Image, display\n",
        "\n",
        "from google.colab import drive\n",
        "drive.mount('/content/drive')"
      ],
      "metadata": {
        "id": "M8Vqi-pPk-HR"
      },
      "execution_count": null,
      "outputs": []
    },
    {
      "cell_type": "markdown",
      "source": [
        "### Dataset Loading"
      ],
      "metadata": {
        "id": "3RnN4peoiCZX"
      }
    },
    {
      "cell_type": "code",
      "source": [
        "# Load Dataset\n",
        "\n",
        "store_data = pd.read_csv('/content/drive/MyDrive/Module2/M2 Additional Project/Play Store Data.csv')\n",
        "review_data = pd.read_csv('/content/drive/MyDrive/Module2/M2 Additional Project/User Reviews.csv')"
      ],
      "metadata": {
        "id": "4CkvbW_SlZ_R"
      },
      "execution_count": null,
      "outputs": []
    },
    {
      "cell_type": "markdown",
      "source": [
        "### Dataset First View"
      ],
      "metadata": {
        "id": "x71ZqKXriCWQ"
      }
    },
    {
      "cell_type": "code",
      "source": [
        "store_data.isnull().sum()\n",
        "# review_data.isnull().sum()"
      ],
      "metadata": {
        "id": "-w-bHGDMj0yB"
      },
      "execution_count": null,
      "outputs": []
    },
    {
      "cell_type": "code",
      "source": [
        "# Dataset First Look\n",
        "store_data.head()      # Playstore Data"
      ],
      "metadata": {
        "id": "LWNFOSvLl09H",
        "collapsed": true
      },
      "execution_count": null,
      "outputs": []
    },
    {
      "cell_type": "code",
      "source": [
        "review_data.head()       # User Review Data"
      ],
      "metadata": {
        "collapsed": true,
        "id": "txsN78y0Pxgx"
      },
      "execution_count": null,
      "outputs": []
    },
    {
      "cell_type": "markdown",
      "source": [
        "### Dataset Rows & Columns count"
      ],
      "metadata": {
        "id": "7hBIi_osiCS2"
      }
    },
    {
      "cell_type": "code",
      "source": [
        "# Dataset Rows & Columns count\n",
        "\n",
        "print('Playstore dataset --> ',store_data.shape)\n",
        "print('USer Review dataset --> ',review_data.shape)"
      ],
      "metadata": {
        "id": "Kllu7SJgmLij",
        "collapsed": true
      },
      "execution_count": null,
      "outputs": []
    },
    {
      "cell_type": "markdown",
      "source": [
        "### Dataset Information"
      ],
      "metadata": {
        "id": "JlHwYmJAmNHm"
      }
    },
    {
      "cell_type": "code",
      "source": [
        "# Dataset Info\n",
        "store_data.info()       # Playstore Data"
      ],
      "metadata": {
        "id": "e9hRXRi6meOf",
        "collapsed": true
      },
      "execution_count": null,
      "outputs": []
    },
    {
      "cell_type": "code",
      "source": [
        "review_data.info()       # User Review Dataset"
      ],
      "metadata": {
        "collapsed": true,
        "id": "LtPnW8NKRFV9"
      },
      "execution_count": null,
      "outputs": []
    },
    {
      "cell_type": "markdown",
      "source": [
        "#### Duplicate Values"
      ],
      "metadata": {
        "id": "35m5QtbWiB9F"
      }
    },
    {
      "cell_type": "code",
      "source": [
        "# Dataset Duplicate Value Count\n",
        "store_data.duplicated().sum()       # Playstore Dataset"
      ],
      "metadata": {
        "id": "1sLdpKYkmox0",
        "collapsed": true
      },
      "execution_count": null,
      "outputs": []
    },
    {
      "cell_type": "code",
      "source": [
        "review_data.duplicated().sum()       # User Review Dataset"
      ],
      "metadata": {
        "id": "ajjc57JhRXZQ",
        "collapsed": true
      },
      "execution_count": null,
      "outputs": []
    },
    {
      "cell_type": "markdown",
      "source": [
        "#### Missing Values/Null Values"
      ],
      "metadata": {
        "id": "PoPl-ycgm1ru"
      }
    },
    {
      "cell_type": "code",
      "source": [
        "# Missing Values/Null Values Count\n",
        "print('PLaystore data \\n', store_data.isna().sum(), '\\n')\n",
        "print('User review data \\n', review_data.isna().sum())"
      ],
      "metadata": {
        "id": "GgHWkxvamxVg",
        "collapsed": true
      },
      "execution_count": null,
      "outputs": []
    },
    {
      "cell_type": "code",
      "source": [
        "# Visualizing the missing values"
      ],
      "metadata": {
        "id": "3q5wnI3om9sJ"
      },
      "execution_count": null,
      "outputs": []
    },
    {
      "cell_type": "markdown",
      "source": [
        "### What did you know about your dataset?"
      ],
      "metadata": {
        "id": "H0kj-8xxnORC"
      }
    },
    {
      "cell_type": "markdown",
      "source": [
        "The datasets are all about the applications, their downloads, ratings, reviews, customer sentiments, installs, genres, type, versions and more.\n",
        "\n",
        "**KEY FINDINGS**\n",
        "1. There are 10841 rows and 13 columns in Playstore dataset, while User Review dataset has 64295 rows and 5 columns.\n",
        "2. Duplicates --> 483 duplicate values in Playstore dataset and 33616 duplicate values in the reviews dataset.\n",
        "3. There are around 1387 null values in the Playstore dataset and 26868 null values in the User Review dataset.\n",
        "4. There are 1 float64 type and 12 object type columns in Playstore dataset and 2 float type and 3 object type columns in the Review dataset."
      ],
      "metadata": {
        "id": "gfoNAAC-nUe_"
      }
    },
    {
      "cell_type": "markdown",
      "source": [
        "## ***2. Understanding Your Variables***"
      ],
      "metadata": {
        "id": "nA9Y7ga8ng1Z"
      }
    },
    {
      "cell_type": "code",
      "source": [
        "# Dataset Columns\n",
        "print('Playstore data \\n', store_data.columns, '\\n')\n",
        "print('Review data \\n', review_data.columns)\n"
      ],
      "metadata": {
        "id": "j7xfkqrt5Ag5"
      },
      "execution_count": null,
      "outputs": []
    },
    {
      "cell_type": "code",
      "source": [
        "# Dataset Describe\n",
        "store_data.describe()"
      ],
      "metadata": {
        "id": "DnOaZdaE5Q5t"
      },
      "execution_count": null,
      "outputs": []
    },
    {
      "cell_type": "code",
      "source": [
        "review_data.describe()"
      ],
      "metadata": {
        "id": "gfbsJAZbZNqN"
      },
      "execution_count": null,
      "outputs": []
    },
    {
      "cell_type": "markdown",
      "source": [
        "### Variables Description"
      ],
      "metadata": {
        "id": "PBTbrJXOngz2"
      }
    },
    {
      "cell_type": "markdown",
      "source": [
        "# Play Store Data Description\n",
        "\n",
        "**Application Name -** The name of the mobile application.\n",
        "\n",
        "**Category -** The primary category to which the app belongs (e.g., Games, Productivity, Education).\n",
        "\n",
        "**Rating -** The overall user rating of the app, represented as a numeric value (e.g., 4.5).\n",
        "\n",
        "**Reviews -** The total number of user reviews for the app, as recorded when the data was scraped.\n",
        "\n",
        "**Size -** The size of the app file (e.g., 15MB, 50MB), as recorded when the data was scraped.\n",
        "\n",
        "**Installs -** The total number of times the app has been downloaded/installed by users, as recorded when the data was scraped.\n",
        "\n",
        "**Type -** The cost of the app if it is paid, represented as a numeric value (e.g., $2.99). If the app is free, the price will be 0.\n",
        "\n",
        "**Price -** The cost of the app if it is paid, represented as a numeric value (e.g., $2.99). If the app is free, the price will be 0.\n",
        "\n",
        "**Content Rating -**\n",
        "The age group the app is targeted at (e.g., Everyone, Teen, Mature 21+, Adult).\n",
        "\n",
        "**Genres -** Additional categories or genres the app belongs to, apart from its main category (e.g., Musical, Family, Game).\n",
        "\n",
        "\n",
        "# User Reviews\n",
        "**App -** The name of the mobile application being reviewed.\n",
        "\n",
        "**Translated Review -** The user review of the app, which has been preprocessed (e.g., cleaned, tokenized) and translated into English.\n",
        "\n",
        "**Sentiment -** The sentiment of the user review, categorized as Positive, Negative, or Neutral, based on text analysis.\n",
        "\n",
        "**Sentiment_Polarity -**\n",
        "A numeric score representing the sentiment polarity of the review, ranging from -1 (most negative) to 1 (most positive).\n",
        "\n",
        "**Sentiment_Subjectivity -** A numeric score indicating the subjectivity of the review, ranging from 0 (objective) to 1 (subjective), showing how subjective or opinion-based the review is."
      ],
      "metadata": {
        "id": "aJV4KIxSnxay"
      }
    },
    {
      "cell_type": "markdown",
      "source": [
        "### Check Unique Values for each variable."
      ],
      "metadata": {
        "id": "u3PMJOP6ngxN"
      }
    },
    {
      "cell_type": "code",
      "source": [
        "# Check Unique Values for each variable.\n",
        "for i in store_data.columns.tolist():\n",
        "  print(i, '-->', store_data[i].nunique())\n",
        "\n",
        "print('\\n\\n')\n",
        "\n",
        "for i in review_data.columns.tolist():\n",
        "  print(i, '-->', review_data[i].nunique())"
      ],
      "metadata": {
        "id": "zms12Yq5n-jE"
      },
      "execution_count": null,
      "outputs": []
    },
    {
      "cell_type": "markdown",
      "source": [
        "## 3. ***Data Wrangling***"
      ],
      "metadata": {
        "id": "dauF4eBmngu3"
      }
    },
    {
      "cell_type": "markdown",
      "source": [
        "### Data Wrangling Code"
      ],
      "metadata": {
        "id": "bKJF3rekwFvQ"
      }
    },
    {
      "cell_type": "code",
      "source": [
        "# Write your code to make your dataset analysis ready.\n",
        "new_review = review_data.dropna(subset=['Translated_Review']).reset_index(drop = True)\n",
        "new_review\n",
        "\n",
        "\n",
        "# Dropped all the rows of all the columns from the dataset where the translated review was missing or null and created a new dataset."
      ],
      "metadata": {
        "id": "wk-9a2fpoLcV",
        "collapsed": true
      },
      "execution_count": null,
      "outputs": []
    },
    {
      "cell_type": "code",
      "source": [
        "new_review.info()"
      ],
      "metadata": {
        "id": "EXqt9WaDghMM"
      },
      "execution_count": null,
      "outputs": []
    },
    {
      "cell_type": "code",
      "source": [
        "store_data.info()"
      ],
      "metadata": {
        "id": "sYRBrIapg-e0"
      },
      "execution_count": null,
      "outputs": []
    },
    {
      "cell_type": "code",
      "source": [
        "store_data.dropna(subset=['Rating', 'Current Ver', 'Android Ver'], inplace = True)\n",
        "store_data.reset_index(drop = True, inplace = True)\n",
        "store_data\n",
        "\n",
        "\n",
        "# Dropped all the rows of all the columns from the dataset where the 'Rating', 'Current Ver' and 'Android Ver' were missing or null."
      ],
      "metadata": {
        "id": "gwOA9zQFhKjU"
      },
      "execution_count": null,
      "outputs": []
    },
    {
      "cell_type": "code",
      "source": [
        "store_data.info()"
      ],
      "metadata": {
        "id": "rFS3N5TQwlB4"
      },
      "execution_count": null,
      "outputs": []
    },
    {
      "cell_type": "code",
      "source": [
        "store_data = store_data[store_data['Rating'] <= 5]\n",
        "store_data.describe()\n",
        "\n",
        "\n",
        "# Created a new dataset with all the rows with the Rating less than or equal to 5."
      ],
      "metadata": {
        "id": "5IL6o7dIwpjB",
        "collapsed": true
      },
      "execution_count": null,
      "outputs": []
    },
    {
      "cell_type": "code",
      "source": [
        "store_data.info()"
      ],
      "metadata": {
        "id": "OHuQoToSsu_4"
      },
      "execution_count": null,
      "outputs": []
    },
    {
      "cell_type": "code",
      "source": [
        "store_data.duplicated().sum()"
      ],
      "metadata": {
        "id": "KtUjNm8xtWS3"
      },
      "execution_count": null,
      "outputs": []
    },
    {
      "cell_type": "code",
      "source": [
        "total = store_data['App'].unique().tolist()\n",
        "len(total)"
      ],
      "metadata": {
        "id": "BAcM9jf9x4s7"
      },
      "execution_count": null,
      "outputs": []
    },
    {
      "cell_type": "code",
      "source": [
        "new_review.groupby('App').agg({'Sentiment_Polarity':'mean', 'Sentiment_Subjectivity':'mean'}).reset_index()"
      ],
      "metadata": {
        "id": "_46r8oxMxDlE"
      },
      "execution_count": null,
      "outputs": []
    },
    {
      "cell_type": "code",
      "source": [
        "store_data['Installs'] = store_data['Installs'].apply(lambda x: x.replace(',', '' ))\n",
        "store_data['Installs'] = store_data['Installs'].apply(lambda x: x.replace('+', '' ))\n",
        "\n",
        "# converted ',' and '+' into whitespace"
      ],
      "metadata": {
        "id": "ysGwg7yzkEyh",
        "collapsed": true
      },
      "execution_count": null,
      "outputs": []
    },
    {
      "cell_type": "code",
      "source": [
        "store_data['Installs'] = pd.to_numeric(store_data['Installs'], errors = 'coerce')\n",
        "store_data['Installs']\n",
        "\n",
        "# converted Column 'Installs' type from object to int64"
      ],
      "metadata": {
        "id": "0MCzYVsnmCnp"
      },
      "execution_count": null,
      "outputs": []
    },
    {
      "cell_type": "markdown",
      "source": [
        "### What all manipulations have you done and insights you found?"
      ],
      "metadata": {
        "id": "MSa1f5Uengrz"
      }
    },
    {
      "cell_type": "markdown",
      "source": [
        "1. Dropped all the rows of all the columns from the dataset review_data where the 'Translated Review' was missing or null and created a new dataset (new_review).\n",
        "2. Dropped all the rows of all the columns from the dataset store_data| where the 'Rating', 'Current Ver' and 'Android Ver' were missing or null.\n",
        "3.  Created a new dataset store_data with all the rows with the Rating less than or equal to 5."
      ],
      "metadata": {
        "id": "LbyXE7I1olp8"
      }
    },
    {
      "cell_type": "markdown",
      "source": [
        "## ***4. Data Vizualization, Storytelling & Experimenting with charts : Understand the relationships between variables***"
      ],
      "metadata": {
        "id": "GF8Ens_Soomf"
      }
    },
    {
      "cell_type": "code",
      "source": [
        "store_data.isna().sum()"
      ],
      "metadata": {
        "id": "S1tD1D3mOWrt"
      },
      "execution_count": null,
      "outputs": []
    },
    {
      "cell_type": "markdown",
      "source": [
        "#### Chart - 1"
      ],
      "metadata": {
        "id": "0wOQAZs5pc--"
      }
    },
    {
      "cell_type": "code",
      "source": [
        "# Chart - 1 visualization code\n",
        "\n",
        "#  App Popularity Analysis\n",
        "# Top installed apps\n",
        "\n",
        "top_installs = store_data.sort_values('Installs', ascending = False).head(10)\n",
        "fig = px.bar(top_installs, x = 'App', y = 'Installs', title = 'Top 10 highest installed applications', color='App', orientation='h', text_auto=True)\n",
        "fig.update_layout(xaxis_tickangle=-45)\n",
        "fig.show()"
      ],
      "metadata": {
        "id": "7v_ESjsspbW7"
      },
      "execution_count": null,
      "outputs": []
    },
    {
      "cell_type": "markdown",
      "source": [
        "##### 1. Why did you pick the specific chart?"
      ],
      "metadata": {
        "id": "K5QZ13OEpz2H"
      }
    },
    {
      "cell_type": "markdown",
      "source": [
        "Answer Here."
      ],
      "metadata": {
        "id": "XESiWehPqBRc"
      }
    },
    {
      "cell_type": "markdown",
      "source": [
        "##### 2. What is/are the insight(s) found from the chart?"
      ],
      "metadata": {
        "id": "lQ7QKXXCp7Bj"
      }
    },
    {
      "cell_type": "markdown",
      "source": [
        "Answer Here"
      ],
      "metadata": {
        "id": "C_j1G7yiqdRP"
      }
    },
    {
      "cell_type": "markdown",
      "source": [
        "##### 3. Will the gained insights help creating a positive business impact?\n",
        "Are there any insights that lead to negative growth? Justify with specific reason."
      ],
      "metadata": {
        "id": "448CDAPjqfQr"
      }
    },
    {
      "cell_type": "markdown",
      "source": [
        "Answer Here"
      ],
      "metadata": {
        "id": "3cspy4FjqxJW"
      }
    },
    {
      "cell_type": "markdown",
      "source": [
        "#### Chart - 2"
      ],
      "metadata": {
        "id": "KSlN3yHqYklG"
      }
    },
    {
      "cell_type": "code",
      "source": [
        "store_data['Reviews']"
      ],
      "metadata": {
        "id": "uK5JMI4LRgJ9"
      },
      "execution_count": null,
      "outputs": []
    },
    {
      "cell_type": "code",
      "source": [
        "# Chart - 2 visualization code\n",
        "# App Popularity Analysis\n",
        "# Most reviewed apps\n",
        "\n",
        "top_reviewed = store_data.sort_values('Reviews', ascending = False).head(10)\n",
        "fig = px.bar(top_reviewed, x = 'App', y = 'Reviews', title = 'Top 10 most reviewed applications', color = 'App')\n",
        "fig.show()"
      ],
      "metadata": {
        "id": "R4YgtaqtYklH"
      },
      "execution_count": null,
      "outputs": []
    },
    {
      "cell_type": "markdown",
      "source": [
        "##### 1. Why did you pick the specific chart?"
      ],
      "metadata": {
        "id": "t6dVpIINYklI"
      }
    },
    {
      "cell_type": "markdown",
      "source": [
        "Answer Here."
      ],
      "metadata": {
        "id": "5aaW0BYyYklI"
      }
    },
    {
      "cell_type": "markdown",
      "source": [
        "##### 2. What is/are the insight(s) found from the chart?"
      ],
      "metadata": {
        "id": "ijmpgYnKYklI"
      }
    },
    {
      "cell_type": "markdown",
      "source": [
        "Answer Here"
      ],
      "metadata": {
        "id": "PSx9atu2YklI"
      }
    },
    {
      "cell_type": "markdown",
      "source": [
        "##### 3. Will the gained insights help creating a positive business impact?\n",
        "Are there any insights that lead to negative growth? Justify with specific reason."
      ],
      "metadata": {
        "id": "-JiQyfWJYklI"
      }
    },
    {
      "cell_type": "markdown",
      "source": [
        "Answer Here"
      ],
      "metadata": {
        "id": "BcBbebzrYklV"
      }
    },
    {
      "cell_type": "markdown",
      "source": [
        "#### Chart - 3"
      ],
      "metadata": {
        "id": "EM7whBJCYoAo"
      }
    },
    {
      "cell_type": "code",
      "source": [],
      "metadata": {
        "id": "5DjHba8pVO3J"
      },
      "execution_count": null,
      "outputs": []
    },
    {
      "cell_type": "code",
      "source": [
        "# Chart - 3 visualization code\n",
        "# 2. Free vs. Paid Apps\n",
        "# Count of Free vs. Paid apps.\n",
        "\n",
        "app_type = store_data['Type'].value_counts().reset_index()\n",
        "fig = px.bar(app_type, x = 'Type', y = 'count', color = 'Type', title = 'Count of Types of application')\n",
        "fig.update_layout(width = 500)\n",
        "fig.show()"
      ],
      "metadata": {
        "id": "t6GMdE67YoAp"
      },
      "execution_count": null,
      "outputs": []
    },
    {
      "cell_type": "markdown",
      "source": [
        "##### 1. Why did you pick the specific chart?"
      ],
      "metadata": {
        "id": "fge-S5ZAYoAp"
      }
    },
    {
      "cell_type": "markdown",
      "source": [
        "Answer Here."
      ],
      "metadata": {
        "id": "5dBItgRVYoAp"
      }
    },
    {
      "cell_type": "markdown",
      "source": [
        "##### 2. What is/are the insight(s) found from the chart?"
      ],
      "metadata": {
        "id": "85gYPyotYoAp"
      }
    },
    {
      "cell_type": "markdown",
      "source": [
        "1. We can see that there are 8715 applications which are available for free.\n",
        "2. There are 645 applications which are paid."
      ],
      "metadata": {
        "id": "4jstXR6OYoAp"
      }
    },
    {
      "cell_type": "markdown",
      "source": [
        "##### 3. Will the gained insights help creating a positive business impact?\n",
        "Are there any insights that lead to negative growth? Justify with specific reason."
      ],
      "metadata": {
        "id": "RoGjAbkUYoAp"
      }
    },
    {
      "cell_type": "markdown",
      "source": [
        "Answer Here"
      ],
      "metadata": {
        "id": "zfJ8IqMcYoAp"
      }
    },
    {
      "cell_type": "markdown",
      "source": [
        "#### Chart - 4"
      ],
      "metadata": {
        "id": "4Of9eVA-YrdM"
      }
    },
    {
      "cell_type": "code",
      "source": [
        "# Chart - 4 visualization code\n",
        "# Do paid apps have better ratings than free ones?\n",
        "\n",
        "check_rating = store_data.groupby('Type')['Rating'].mean().reset_index()\n",
        "# check_rating\n",
        "fig = px.bar(check_rating, x = 'Type', y = 'Rating', color = 'Type', title = 'Average rating between paid apps and unpaid apps')\n",
        "fig.update_layout(width = 500)\n",
        "fig.show()"
      ],
      "metadata": {
        "id": "irlUoxc8YrdO"
      },
      "execution_count": null,
      "outputs": []
    },
    {
      "cell_type": "code",
      "source": [
        "store_data.columns"
      ],
      "metadata": {
        "id": "OvI1x9XjeZwt"
      },
      "execution_count": null,
      "outputs": []
    },
    {
      "cell_type": "markdown",
      "source": [
        "##### 1. Why did you pick the specific chart?"
      ],
      "metadata": {
        "id": "iky9q4vBYrdO"
      }
    },
    {
      "cell_type": "markdown",
      "source": [
        "1. **Direct Comparison:** Bar charts allow for direct visual comparison of values between categories. The height of the bars clearly represents the average rating for each app type (Paid and Free), making it easier to see the difference.\n",
        "\n",
        "2. **Emphasis on Difference:** The focus is shifted to the magnitude of the difference between the average ratings, which is the key insight you want to highlight."
      ],
      "metadata": {
        "id": "aJRCwT6DYrdO"
      }
    },
    {
      "cell_type": "markdown",
      "source": [
        "##### 2. What is/are the insight(s) found from the chart?"
      ],
      "metadata": {
        "id": "F6T5p64dYrdO"
      }
    },
    {
      "cell_type": "markdown",
      "source": [
        "1. We can see here that the average rating of paid apps is 4.2, eventhough the downloads are significantly lower than that of the unpaid apps.\n",
        "2. And the average rating of unpaid app is 4.1"
      ],
      "metadata": {
        "id": "Xx8WAJvtYrdO"
      }
    },
    {
      "cell_type": "markdown",
      "source": [
        "##### 3. Will the gained insights help creating a positive business impact?\n",
        "Are there any insights that lead to negative growth? Justify with specific reason."
      ],
      "metadata": {
        "id": "y-Ehk30pYrdP"
      }
    },
    {
      "cell_type": "markdown",
      "source": [
        "Answer Here"
      ],
      "metadata": {
        "id": "jLNxxz7MYrdP"
      }
    },
    {
      "cell_type": "markdown",
      "source": [
        "#### Chart - 5"
      ],
      "metadata": {
        "id": "bamQiAODYuh1"
      }
    },
    {
      "cell_type": "code",
      "source": [
        "# Chart - 5 visualization code\n",
        "# 3. Category-Wise Insights\n",
        "# Which categories have the most apps?\n",
        "\n",
        "categories = store_data['Category'].value_counts().sort_values(ascending = False).reset_index()\n",
        "# categories\n",
        "\n",
        "fig = px.pie(categories, values = 'count', names = 'Category', title = 'Distribution of categories', color = 'Category', hole = 0.4)\n",
        "fig.update_layout(height = 700, width = 1000)\n",
        "fig.show()"
      ],
      "metadata": {
        "id": "TIJwrbroYuh3"
      },
      "execution_count": null,
      "outputs": []
    },
    {
      "cell_type": "markdown",
      "source": [
        "##### 1. Why did you pick the specific chart?"
      ],
      "metadata": {
        "id": "QHF8YVU7Yuh3"
      }
    },
    {
      "cell_type": "markdown",
      "source": [
        "1. **Easy Division :** Pie cahrt is easy to use. And simple yet efficient to visualize the division of the data in the specified category.\n",
        "\n",
        "2. **Visualization :** It shows the area covered by each entity in the category in the form of donut."
      ],
      "metadata": {
        "id": "dcxuIMRPYuh3"
      }
    },
    {
      "cell_type": "markdown",
      "source": [
        "##### 2. What is/are the insight(s) found from the chart?"
      ],
      "metadata": {
        "id": "GwzvFGzlYuh3"
      }
    },
    {
      "cell_type": "markdown",
      "source": [
        "1. We can see here, the biggest contribution the app category is made by 'Family' with over 1746 applications, followed by 'Game' with 1097 applications and 'Tools' with 733 applications.\n",
        "\n",
        "2. Where as the least contributions are made by 'Beauty', 'Events' and 'Parenting' with 42, 45 and 50 number of applications respectively."
      ],
      "metadata": {
        "id": "uyqkiB8YYuh3"
      }
    },
    {
      "cell_type": "markdown",
      "source": [
        "##### 3. Will the gained insights help creating a positive business impact?\n",
        "Are there any insights that lead to negative growth? Justify with specific reason."
      ],
      "metadata": {
        "id": "qYpmQ266Yuh3"
      }
    },
    {
      "cell_type": "markdown",
      "source": [],
      "metadata": {
        "id": "_WtzZ_hCYuh4"
      }
    },
    {
      "cell_type": "markdown",
      "source": [
        "#### Chart - 6"
      ],
      "metadata": {
        "id": "OH-pJp9IphqM"
      }
    },
    {
      "cell_type": "code",
      "source": [
        "# Chart - 6 visualization code\n",
        "# Most installed categories\n",
        "\n",
        "most_installed = store_data.groupby('Category')['Installs'].sum().sort_values(ascending = False).reset_index()\n",
        "most_installed\n",
        "\n",
        "fig = px.histogram(most_installed, x = 'Category', y = 'Installs', title = 'Most installed application category', color = 'Category')\n",
        "fig.update_layout(height = 700, width = 1000)\n",
        "fig.show()"
      ],
      "metadata": {
        "id": "kuRf4wtuphqN"
      },
      "execution_count": null,
      "outputs": []
    },
    {
      "cell_type": "markdown",
      "source": [
        "##### 1. Why did you pick the specific chart?"
      ],
      "metadata": {
        "id": "bbFf2-_FphqN"
      }
    },
    {
      "cell_type": "markdown",
      "source": [
        "1. **Easy Distribution :** We used Histogram to visualize the distribution of the total installs of each category."
      ],
      "metadata": {
        "id": "loh7H2nzphqN"
      }
    },
    {
      "cell_type": "markdown",
      "source": [
        "##### 2. What is/are the insight(s) found from the chart?"
      ],
      "metadata": {
        "id": "_ouA3fa0phqN"
      }
    },
    {
      "cell_type": "markdown",
      "source": [
        "1. We can see the biggest contribution is made by the 'Game' category with total install of over 35 billion, followed by 'Communication' with 32.68 billion and 'Productivity' with 14.18 billion.\n",
        "\n",
        "2. The least installs are made by 'Event', 'Beauty' and 'Parenting' with 15.94 million, 26.91 million and 31.11 million installs respectively."
      ],
      "metadata": {
        "id": "VECbqPI7phqN"
      }
    },
    {
      "cell_type": "markdown",
      "source": [
        "##### 3. Will the gained insights help creating a positive business impact?\n",
        "Are there any insights that lead to negative growth? Justify with specific reason."
      ],
      "metadata": {
        "id": "Seke61FWphqN"
      }
    },
    {
      "cell_type": "markdown",
      "source": [
        "Answer Here"
      ],
      "metadata": {
        "id": "DW4_bGpfphqN"
      }
    },
    {
      "cell_type": "markdown",
      "source": [
        "#### Chart - 7"
      ],
      "metadata": {
        "id": "PIIx-8_IphqN"
      }
    },
    {
      "cell_type": "code",
      "source": [
        "# Chart - 7 visualization code\n",
        "# 4. Rating vs. Installs Do highly downloaded apps always have high ratings?\n",
        "correlation = store_data[['Rating', 'Installs']].corr()\n",
        "# correlation\n",
        "\n",
        "fig = ff.create_annotated_heatmap(np.round(correlation.values, 2), x = list(correlation.columns), y = list(correlation.index), annotation_text = np.round(correlation.values, 2), colorscale = 'Viridis')\n",
        "fig.update_layout(title = 'Correlation between Rating and Installs', font = dict(size = 12))\n",
        "fig.show()"
      ],
      "metadata": {
        "id": "lqAIGUfyphqO"
      },
      "execution_count": null,
      "outputs": []
    },
    {
      "cell_type": "markdown",
      "source": [
        "##### 1. Why did you pick the specific chart?"
      ],
      "metadata": {
        "id": "t27r6nlMphqO"
      }
    },
    {
      "cell_type": "markdown",
      "source": [
        "**Effective Visualization :** The annoted correlation heatmap is used here to visualize the correlation between the 'Rating' and 'Installs'. Heatmap help in easy understanding of the correlation between the given entities."
      ],
      "metadata": {
        "id": "iv6ro40sphqO"
      }
    },
    {
      "cell_type": "markdown",
      "source": [
        "##### 2. What is/are the insight(s) found from the chart?"
      ],
      "metadata": {
        "id": "r2jJGEOYphqO"
      }
    },
    {
      "cell_type": "markdown",
      "source": [
        "Here, we can witness that there is a weak corralation between ratings and the number of installs of the application 0.05.\n",
        "\n",
        "The number of installs have nothing to do with the ratings of the applications."
      ],
      "metadata": {
        "id": "Po6ZPi4hphqO"
      }
    },
    {
      "cell_type": "markdown",
      "source": [
        "##### 3. Will the gained insights help creating a positive business impact?\n",
        "Are there any insights that lead to negative growth? Justify with specific reason."
      ],
      "metadata": {
        "id": "b0JNsNcRphqO"
      }
    },
    {
      "cell_type": "markdown",
      "source": [
        "Answer Here"
      ],
      "metadata": {
        "id": "xvSq8iUTphqO"
      }
    },
    {
      "cell_type": "markdown",
      "source": [
        "# Essential User Review & Sentiment Analysis (4 Key Insights)\n"
      ],
      "metadata": {
        "id": "t7cJuWCsZZxf"
      }
    },
    {
      "cell_type": "markdown",
      "source": [
        "#### Chart - 8"
      ],
      "metadata": {
        "id": "BZR9WyysphqO"
      }
    },
    {
      "cell_type": "code",
      "source": [
        "# Chart - 8 visualization code\n",
        "# 1. Sentiment Distribution Overall count of Positive, Neutral, and Negative reviews\n",
        "senti_dist = new_review.groupby('Sentiment')['Sentiment'].count()\n",
        "senti_dist = senti_dist.rename(index = {'Positive': 'Positive', 'Neutral':'Neutral', 'Negative':'Negative'})\n",
        "senti_dist = senti_dist.rename('Count').reset_index()\n",
        "senti_dist\n",
        "fig = px.histogram(senti_dist, x = 'Sentiment', y = 'Count', color= 'Sentiment', title ='Sentiment Distribution')\n",
        "fig.update_layout(width = 600, height = 700)\n",
        "fig.show()"
      ],
      "metadata": {
        "id": "TdPTWpAVphqO"
      },
      "execution_count": null,
      "outputs": []
    },
    {
      "cell_type": "markdown",
      "source": [
        "1. Why did you pick the specific chart?"
      ],
      "metadata": {
        "id": "jj7wYXLtphqO"
      }
    },
    {
      "cell_type": "markdown",
      "source": [
        "1. **Clear Visuals :** We used histogram to visualize the distribution of all the sentiments i.e., Positive, Negative and Neutral.\n"
      ],
      "metadata": {
        "id": "Ob8u6rCTphqO"
      }
    },
    {
      "cell_type": "markdown",
      "source": [
        "##### 2. What is/are the insight(s) found from the chart?"
      ],
      "metadata": {
        "id": "eZrbJ2SmphqO"
      }
    },
    {
      "cell_type": "markdown",
      "source": [
        "1. We can see that sentiment 'Positive' has the highest count with 23.99k reviews. followed by sentiment 'Negative' with the score of 8271 reviews.\n",
        "\n",
        "2. Sentiment 'Neutral\" has the lowest count with 5158 reviews."
      ],
      "metadata": {
        "id": "mZtgC_hjphqO"
      }
    },
    {
      "cell_type": "markdown",
      "source": [
        "##### 3. Will the gained insights help creating a positive business impact?\n",
        "Are there any insights that lead to negative growth? Justify with specific reason."
      ],
      "metadata": {
        "id": "rFu4xreNphqO"
      }
    },
    {
      "cell_type": "markdown",
      "source": [
        "Yes, there are insights that can leasd to the negative growth.\n",
        "\n",
        "1. **Negative sentimeent** Applications fall in 'Negative' category must identify the cause of the bad user experiences. such negative reviews can lead to loss of potential customer base and the companies may face a huge loss in the revenues.\n",
        "\n",
        "2. **Neutral sentimeent** Applications in this category are still not doing well. need to identify the cause of the problem to retain the customers who still use the applicatios."
      ],
      "metadata": {
        "id": "ey_0qi68phqO"
      }
    },
    {
      "cell_type": "markdown",
      "source": [
        "#### Chart - 9"
      ],
      "metadata": {
        "id": "YJ55k-q6phqO"
      }
    },
    {
      "cell_type": "code",
      "source": [
        "# Chart - 9 visualization code\n",
        "# 2. Category-Wise Sentiment Trends\n",
        "\n",
        "grp_app = new_review.groupby('App')['Sentiment'].value_counts().unstack()\n",
        "# created a new Dataset 'grp_app' with all the entities of the 'Sentiment' columns and 'App' column.\n",
        "\n",
        "grp_app['Neg_%'] = round(grp_app['Negative'] / (grp_app['Negative'] + grp_app['Neutral'] + grp_app['Positive']) * 100, 2)\n",
        "grp_app['Neu_%'] = round(grp_app['Neutral'] / (grp_app['Negative'] + grp_app['Neutral'] + grp_app['Positive']) * 100, 2)\n",
        "grp_app['Pos_%'] = round(grp_app['Positive'] / (grp_app['Negative'] + grp_app['Neutral'] + grp_app['Positive']) * 100, 2)\n",
        "# Create new columns with the percentage of each entity.\n",
        "\n",
        "grp_app"
      ],
      "metadata": {
        "id": "B2aS4O1ophqO"
      },
      "execution_count": null,
      "outputs": []
    },
    {
      "cell_type": "code",
      "source": [
        "new_df = grp_app.merge(store_data[['App', 'Category']], on='App', how='left')\n",
        "# merged grp_app with 'App' and 'Category' columns of store_data dataset\n",
        "\n",
        "new_df.info()"
      ],
      "metadata": {
        "id": "c-wAOcNXn1f3"
      },
      "execution_count": null,
      "outputs": []
    },
    {
      "cell_type": "code",
      "source": [
        "new_df = new_df.dropna().reset_index(drop=True)\n",
        "#dropped all the null values from the dataset\n",
        "\n",
        "new_df.info()"
      ],
      "metadata": {
        "id": "Xu2ob_ZOoS1m"
      },
      "execution_count": null,
      "outputs": []
    },
    {
      "cell_type": "code",
      "source": [
        "new_df = new_df.groupby('Category')[['Pos_%', 'Neg_%', 'Neu_%']].mean().sort_values('Pos_%', ascending = False).reset_index()\n",
        "# grouped the data by 'Category' column, found out mean of Positive, Negative and Neutral column and sorted by Pos_%\n",
        "\n",
        "fig = px.bar(new_df, x = 'Category', y = ['Pos_%', 'Neg_%', 'Neu_%'], title = 'Category-wise Sentiment trend')\n",
        "fig.update_layout(height = 700, width = 1000)\n",
        "fig.show()"
      ],
      "metadata": {
        "id": "USgcjQY9TDf2",
        "collapsed": true
      },
      "execution_count": null,
      "outputs": []
    },
    {
      "cell_type": "markdown",
      "source": [
        "##### 1. Why did you pick the specific chart?"
      ],
      "metadata": {
        "id": "gCFgpxoyphqP"
      }
    },
    {
      "cell_type": "markdown",
      "source": [
        "1. **Sorted Visuals :** We chose the line chart as it shows the contribution of each review sentiment for each category."
      ],
      "metadata": {
        "id": "TVxDimi2phqP"
      }
    },
    {
      "cell_type": "markdown",
      "source": [
        "##### 2. What is/are the insight(s) found from the chart?"
      ],
      "metadata": {
        "id": "OVtJsKN_phqQ"
      }
    },
    {
      "cell_type": "markdown",
      "source": [
        "1. We can see here the category 'Comics' has the highest number of 'Positive' sentiment with 94.39 percent and also has the lowest 'Negative' sentiment with 2.86 percent followed by category 'Health_And_Fitness with 'Positive sentiment of 75.73 percent.\n",
        "\n",
        "2. Category 'Social' has the lowest 'Positive' sentiment with 52.77 percent followed by category 'Video_Players' with 57 percent.\n",
        "\n",
        "3. Category 'Game' has the highest 'Negative' sentiment with  35.56 percent followed by category 'Social' with 29.24 percent."
      ],
      "metadata": {
        "id": "ngGi97qjphqQ"
      }
    },
    {
      "cell_type": "markdown",
      "source": [
        "##### 3. Will the gained insights help creating a positive business impact?\n",
        "Are there any insights that lead to negative growth? Justify with specific reason."
      ],
      "metadata": {
        "id": "lssrdh5qphqQ"
      }
    },
    {
      "cell_type": "markdown",
      "source": [
        "Answer Here"
      ],
      "metadata": {
        "id": "tBpY5ekJphqQ"
      }
    },
    {
      "cell_type": "markdown",
      "source": [
        "## **5. Solution to Business Objective**"
      ],
      "metadata": {
        "id": "JcMwzZxoAimU"
      }
    },
    {
      "cell_type": "markdown",
      "source": [
        "#### What do you suggest the client to achieve Business Objective ?\n",
        "Explain Briefly."
      ],
      "metadata": {
        "id": "8G2x9gOozGDZ"
      }
    },
    {
      "cell_type": "markdown",
      "source": [
        "Answer Here."
      ],
      "metadata": {
        "id": "pASKb0qOza21"
      }
    },
    {
      "cell_type": "markdown",
      "source": [
        "# **Conclusion**"
      ],
      "metadata": {
        "id": "gCX9965dhzqZ"
      }
    },
    {
      "cell_type": "markdown",
      "source": [
        "Write the conclusion here."
      ],
      "metadata": {
        "id": "Fjb1IsQkh3yE"
      }
    },
    {
      "cell_type": "markdown",
      "source": [
        "### ***Hurrah! You have successfully completed your EDA Capstone Project !!!***"
      ],
      "metadata": {
        "id": "gIfDvo9L0UH2"
      }
    }
  ]
}